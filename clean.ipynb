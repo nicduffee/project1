{
 "cells": [
  {
   "cell_type": "code",
   "execution_count": 16,
   "metadata": {},
   "outputs": [],
   "source": [
    "import pandas as pd\n",
    "from pathlib import Path\n",
    "from typing import Dict"
   ]
  },
  {
   "cell_type": "code",
   "execution_count": 17,
   "metadata": {},
   "outputs": [],
   "source": [
    "county_dfs: Dict[str, pd.DataFrame] = {}\n",
    "\n",
    "for path in Path(\"Resources/Budget\").glob(\"Budget_by_County_*.csv\"):\n",
    "    name_parts = path.stem.split(\"_\")\n",
    "    year = name_parts[-1]\n",
    "    if year == \"Merged\":\n",
    "        continue\n",
    "    df = pd.read_csv(path)\n",
    "    df[\"Year\"] = int(year)\n",
    "    county_dfs[year] = df\n",
    "\n",
    "df = pd.DataFrame(columns=county_dfs[\"2010\"].columns)\n",
    "\n",
    "for year, year_df in county_dfs.items():\n",
    "    for col in [col for col in year_df.columns if col not in [\"State\",\"County/ Congressional District\"]]:\n",
    "        year_df[col] = pd.to_numeric(year_df[col], errors=\"coerce\")\n",
    "        year_df = year_df.fillna(0)\n",
    "        year_df[col] = year_df[col].astype(\"int\")\n",
    "    df = df.merge(year_df, how=\"outer\")\n",
    "merged_county_df = df\n",
    "\n",
    "merged_county_df.to_csv(f\"Resources/Budget/Budget_by_County_Merged.csv\", index=False)"
   ]
  },
  {
   "cell_type": "code",
   "execution_count": 18,
   "metadata": {},
   "outputs": [],
   "source": [
    "state_dfs: Dict[str, pd.DataFrame] = {}\n",
    "\n",
    "for path in Path(\"Resources/Budget\").glob(\"State_Total_*.csv\"):\n",
    "    name_parts = path.stem.split(\"_\")\n",
    "    year = name_parts[-1]\n",
    "    if year == \"Merged\":\n",
    "        continue\n",
    "    df = pd.read_csv(path)\n",
    "    df[\"Year\"] = int(year)\n",
    "    for row in range(len(df.index)):\n",
    "        df.iloc[row, 0] = df.iloc[row, 0].strip(\" \")\n",
    "    state_dfs[year] = df\n",
    "\n",
    "df = pd.DataFrame(columns=state_dfs[\"2010\"].columns)\n",
    "\n",
    "for year, year_df in state_dfs.items():\n",
    "    for col in [col for col in year_df.columns if col != \"State\"]:\n",
    "        year_df[col] = pd.to_numeric(year_df[col], errors=\"coerce\")\n",
    "        year_df = year_df.fillna(0)\n",
    "        year_df[col] = year_df[col].astype(\"int\")\n",
    "    df = df.merge(year_df, how=\"outer\")\n",
    "\n",
    "df.to_csv(f\"Resources/Budget/State_Total_Merged.csv\", index=False)"
   ]
  }
 ],
 "metadata": {
  "kernelspec": {
   "display_name": "dev",
   "language": "python",
   "name": "python3"
  },
  "language_info": {
   "codemirror_mode": {
    "name": "ipython",
    "version": 3
   },
   "file_extension": ".py",
   "mimetype": "text/x-python",
   "name": "python",
   "nbconvert_exporter": "python",
   "pygments_lexer": "ipython3",
   "version": "3.10.11"
  },
  "orig_nbformat": 4
 },
 "nbformat": 4,
 "nbformat_minor": 2
}
